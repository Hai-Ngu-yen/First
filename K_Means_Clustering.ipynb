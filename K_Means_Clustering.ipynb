{
  "nbformat": 4,
  "nbformat_minor": 0,
  "metadata": {
    "colab": {
      "name": "K-Means Clustering.ipynb",
      "provenance": [],
      "collapsed_sections": []
    },
    "kernelspec": {
      "name": "python3",
      "display_name": "Python 3"
    },
    "language_info": {
      "name": "python"
    }
  },
  "cells": [
    {
      "cell_type": "code",
      "metadata": {
        "colab": {
          "base_uri": "https://localhost:8080/"
        },
        "id": "TRH8IFvM7zkU",
        "outputId": "a329e57f-4906-48b5-f88a-ca1ca26727ee"
      },
      "source": [
        "import random\n",
        "import numpy as np\n",
        "\n",
        "N = 4\n",
        "M = 2\n",
        "K = 2\n",
        "\n",
        "#random N phan tu M chieu so thuc 0-100\n",
        "arr = np.random.rand(N, M)*100\n",
        "\n",
        "arr"
      ],
      "execution_count": 21,
      "outputs": [
        {
          "output_type": "execute_result",
          "data": {
            "text/plain": [
              "array([[60.03759406, 62.5325063 ],\n",
              "       [12.38533692, 59.48918334],\n",
              "       [94.9677747 , 98.58061002],\n",
              "       [60.94131114, 23.26613761]])"
            ]
          },
          "metadata": {},
          "execution_count": 21
        }
      ]
    },
    {
      "cell_type": "code",
      "metadata": {
        "id": "7-jJMRHFK7_f"
      },
      "source": [
        "#Ham tinh khoang cach\n",
        "import math\n",
        "def getDistance(x, y):\n",
        "  d = 0.0\n",
        "  for i in range(M):\n",
        "    d = d + (x[i]-y[i])**2\n",
        "  return math.sqrt(d)"
      ],
      "execution_count": 22,
      "outputs": []
    },
    {
      "cell_type": "code",
      "metadata": {
        "colab": {
          "base_uri": "https://localhost:8080/"
        },
        "id": "sywgm3zf6ETo",
        "outputId": "b59d1361-b72d-4bd5-f18a-056aa2c20ec3"
      },
      "source": [
        "#Random lay tam\n",
        "tam = np.random.rand(K, M)*100\n",
        "\n",
        "tam"
      ],
      "execution_count": 23,
      "outputs": [
        {
          "output_type": "execute_result",
          "data": {
            "text/plain": [
              "array([[54.28566397, 35.68521719],\n",
              "       [46.69211273, 99.07214787]])"
            ]
          },
          "metadata": {},
          "execution_count": 23
        }
      ]
    },
    {
      "cell_type": "code",
      "metadata": {
        "id": "Y4qvS2fqgbiw",
        "colab": {
          "base_uri": "https://localhost:8080/"
        },
        "outputId": "bd8e339f-84b3-41bc-a820-c831e6d4224f"
      },
      "source": [
        "#Chia nhom\n",
        "while True:\n",
        "  nhom = [[]]\n",
        "  for i in range(K-1):\n",
        "    nhom.append([])\n",
        "    \n",
        "  for i in arr:\n",
        "    d = []\n",
        "    for j in tam:\n",
        "      d.append(getDistance(i, j))\n",
        "    min_index = d.index(min(d))\n",
        "    nhom[min_index].append(i)\n",
        "  \n",
        "  tam_moi = []\n",
        "  for i in nhom:\n",
        "    tam_moi.append(np.average(i, axis=0))\n",
        "\n",
        "  #So sanh tam moi va tam cu\n",
        "  if np.in1d(tam, tam_moi).all() == True:\n",
        "    tam = tam_moi\n",
        "    break\n",
        "    \n",
        "  tam = tam_moi\n",
        "  #Lap lai voi tam moi\n",
        "\n",
        "tam"
      ],
      "execution_count": 24,
      "outputs": [
        {
          "output_type": "execute_result",
          "data": {
            "text/plain": [
              "[array([44.45474737, 48.42927575]), array([94.9677747 , 98.58061002])]"
            ]
          },
          "metadata": {},
          "execution_count": 24
        }
      ]
    },
    {
      "cell_type": "code",
      "metadata": {
        "colab": {
          "base_uri": "https://localhost:8080/"
        },
        "id": "EhRF9YTAtCix",
        "outputId": "04f2f4a5-923d-428e-da55-d9af69f1baa4"
      },
      "source": [
        "#Nhom sau khi chia\n",
        "nhom"
      ],
      "execution_count": 25,
      "outputs": [
        {
          "output_type": "execute_result",
          "data": {
            "text/plain": [
              "[[array([60.03759406, 62.5325063 ]),\n",
              "  array([12.38533692, 59.48918334]),\n",
              "  array([60.94131114, 23.26613761])],\n",
              " [array([94.9677747 , 98.58061002])]]"
            ]
          },
          "metadata": {},
          "execution_count": 25
        }
      ]
    },
    {
      "cell_type": "code",
      "metadata": {
        "colab": {
          "base_uri": "https://localhost:8080/"
        },
        "id": "qQpe_2_s7BJ4",
        "outputId": "d95e2f20-7c4c-4a69-a932-c196dfcecb20"
      },
      "source": [
        "#Su dung thu vien\n",
        "from sklearn.cluster import KMeans\n",
        "\n",
        "kmeans = KMeans(n_clusters=K, random_state=0).fit(arr)\n",
        "\n",
        "kmeans.cluster_centers_\n",
        "#@title Sử dụng thư viện nhanh hơn nhiều so với không song song"
      ],
      "execution_count": 26,
      "outputs": [
        {
          "output_type": "execute_result",
          "data": {
            "text/plain": [
              "array([[44.45474737, 48.42927575],\n",
              "       [94.9677747 , 98.58061002]])"
            ]
          },
          "metadata": {},
          "execution_count": 26
        }
      ]
    },
    {
      "cell_type": "code",
      "metadata": {
        "colab": {
          "base_uri": "https://localhost:8080/"
        },
        "id": "EDV2215vUQzl",
        "outputId": "9e3ce227-6f00-463a-9172-524e70034f0e"
      },
      "source": [
        "KMeans(n_clusters=K, random_state=0).fit_predict(arr)"
      ],
      "execution_count": 20,
      "outputs": [
        {
          "output_type": "execute_result",
          "data": {
            "text/plain": [
              "array([1, 1, 1, 0], dtype=int32)"
            ]
          },
          "metadata": {},
          "execution_count": 20
        }
      ]
    }
  ]
}