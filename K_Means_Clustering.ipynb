{
  "nbformat": 4,
  "nbformat_minor": 0,
  "metadata": {
    "colab": {
      "name": "K_Means_Clustering.ipynb",
      "provenance": [],
      "collapsed_sections": []
    },
    "kernelspec": {
      "name": "python3",
      "display_name": "Python 3"
    },
    "language_info": {
      "name": "python"
    }
  },
  "cells": [
    {
      "cell_type": "code",
      "metadata": {
        "colab": {
          "base_uri": "https://localhost:8080/"
        },
        "id": "TRH8IFvM7zkU",
        "outputId": "b5b983c5-d2cf-40f0-8fa7-38001a05317d"
      },
      "source": [
        "import random\n",
        "import numpy as np\n",
        "\n",
        "N = 4\n",
        "M = 2\n",
        "K = 2\n",
        "\n",
        "#random N floats from 0-100 which has M dimensions\n",
        "arr = np.random.rand(N, M)*100\n",
        "\n",
        "arr"
      ],
      "execution_count": 1,
      "outputs": [
        {
          "output_type": "execute_result",
          "data": {
            "text/plain": [
              "array([[96.49093299, 70.79206529],\n",
              "       [84.40997607, 20.90869895],\n",
              "       [19.42610604, 61.71258768],\n",
              "       [13.32565396, 75.4304121 ]])"
            ]
          },
          "metadata": {},
          "execution_count": 1
        }
      ]
    },
    {
      "cell_type": "code",
      "metadata": {
        "id": "7-jJMRHFK7_f"
      },
      "source": [
        "#Get distance from 2 elements\n",
        "import math\n",
        "def getDistance(x, y):\n",
        "  d = 0.0\n",
        "  for i in range(M):\n",
        "    d = d + (x[i]-y[i])**2\n",
        "  return math.sqrt(d)"
      ],
      "execution_count": 2,
      "outputs": []
    },
    {
      "cell_type": "code",
      "metadata": {
        "colab": {
          "base_uri": "https://localhost:8080/"
        },
        "id": "sywgm3zf6ETo",
        "outputId": "c25b8c9f-2683-473a-da4f-dc22c5890b2b"
      },
      "source": [
        "#Get random centroid\n",
        "tam = np.random.rand(K, M)*100\n",
        "\n",
        "tam"
      ],
      "execution_count": 3,
      "outputs": [
        {
          "output_type": "execute_result",
          "data": {
            "text/plain": [
              "array([[65.55751554, 25.12881459],\n",
              "       [69.68167655, 55.79327353]])"
            ]
          },
          "metadata": {},
          "execution_count": 3
        }
      ]
    },
    {
      "cell_type": "code",
      "metadata": {
        "id": "Y4qvS2fqgbiw",
        "colab": {
          "base_uri": "https://localhost:8080/"
        },
        "outputId": "9f67a3f2-6f08-450e-aa35-53ae7109de04"
      },
      "source": [
        "#Loop\n",
        "while True:\n",
        "  nhom = [[]]\n",
        "  for i in range(K-1):\n",
        "    nhom.append([])\n",
        "    \n",
        "  for i in arr:\n",
        "    d = []\n",
        "    for j in tam:\n",
        "      d.append(getDistance(i, j))\n",
        "    min_index = d.index(min(d))\n",
        "    nhom[min_index].append(i)\n",
        "  \n",
        "  tam_moi = []\n",
        "  for i in nhom:\n",
        "    tam_moi.append(np.average(i, axis=0))\n",
        "\n",
        "  #Compare new centroid and old centroid\n",
        "  if np.in1d(tam, tam_moi).all() == True:\n",
        "    tam = tam_moi\n",
        "    break\n",
        "    \n",
        "  tam = tam_moi\n",
        "  #Do it again with new centroid\n",
        "\n",
        "tam"
      ],
      "execution_count": 4,
      "outputs": [
        {
          "output_type": "execute_result",
          "data": {
            "text/plain": [
              "[array([90.45045453, 45.85038212]), array([16.37588   , 68.57149989])]"
            ]
          },
          "metadata": {},
          "execution_count": 4
        }
      ]
    },
    {
      "cell_type": "code",
      "metadata": {
        "colab": {
          "base_uri": "https://localhost:8080/"
        },
        "id": "EhRF9YTAtCix",
        "outputId": "daf64410-feb8-4596-d7a3-e07e8b77b117"
      },
      "source": [
        "#Group after clustering\n",
        "nhom"
      ],
      "execution_count": 5,
      "outputs": [
        {
          "output_type": "execute_result",
          "data": {
            "text/plain": [
              "[[array([96.49093299, 70.79206529]), array([84.40997607, 20.90869895])],\n",
              " [array([19.42610604, 61.71258768]), array([13.32565396, 75.4304121 ])]]"
            ]
          },
          "metadata": {},
          "execution_count": 5
        }
      ]
    },
    {
      "cell_type": "code",
      "metadata": {
        "colab": {
          "base_uri": "https://localhost:8080/"
        },
        "id": "qQpe_2_s7BJ4",
        "outputId": "8bf61dfc-3b17-4a87-b0b4-03280bc150cb"
      },
      "source": [
        "#Using library\n",
        "from sklearn.cluster import KMeans\n",
        "\n",
        "kmeans = KMeans(n_clusters=K, random_state=0).fit(arr)\n",
        "\n",
        "kmeans.cluster_centers_\n",
        "#@title Sử dụng thư viện nhanh hơn nhiều so với không song song"
      ],
      "execution_count": 6,
      "outputs": [
        {
          "output_type": "execute_result",
          "data": {
            "text/plain": [
              "array([[90.45045453, 45.85038212],\n",
              "       [16.37588   , 68.57149989]])"
            ]
          },
          "metadata": {},
          "execution_count": 6
        }
      ]
    },
    {
      "cell_type": "code",
      "metadata": {
        "colab": {
          "base_uri": "https://localhost:8080/"
        },
        "id": "EDV2215vUQzl",
        "outputId": "977232b1-1860-4314-993e-bfa8f5c17b2c"
      },
      "source": [
        "KMeans(n_clusters=K, random_state=0).fit_predict(arr)"
      ],
      "execution_count": 7,
      "outputs": [
        {
          "output_type": "execute_result",
          "data": {
            "text/plain": [
              "array([0, 0, 1, 1], dtype=int32)"
            ]
          },
          "metadata": {},
          "execution_count": 7
        }
      ]
    }
  ]
}